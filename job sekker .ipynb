{
 "cells": [
  {
   "cell_type": "code",
   "execution_count": 1,
   "id": "e31a5ace",
   "metadata": {},
   "outputs": [],
   "source": [
    "import streamlit as st\n",
    "import google.generativeai as genai\n",
    "import os\n",
    "import PyPDF2 as pdf\n",
    "from dotenv import load_dotenv\n",
    "from wordcloud import WordCloud\n",
    "import matplotlib.pyplot as plt\n",
    "import seaborn as sns"
   ]
  },
  {
   "cell_type": "code",
   "execution_count": 2,
   "id": "13704017",
   "metadata": {},
   "outputs": [],
   "source": [
    "st.set_page_config(page_title=\"ATS Resume Expert\", layout='wide')"
   ]
  },
  {
   "cell_type": "code",
   "execution_count": 3,
   "id": "2e80ce1d",
   "metadata": {},
   "outputs": [
    {
     "data": {
      "text/plain": [
       "True"
      ]
     },
     "execution_count": 3,
     "metadata": {},
     "output_type": "execute_result"
    }
   ],
   "source": [
    "load_dotenv() ## load all our environment variables"
   ]
  },
  {
   "cell_type": "code",
   "execution_count": 4,
   "id": "8c1b83be",
   "metadata": {},
   "outputs": [],
   "source": [
    "genai.configure(api_key=os.getenv(\"api_key\"))"
   ]
  },
  {
   "cell_type": "code",
   "execution_count": 5,
   "id": "92ee0365",
   "metadata": {},
   "outputs": [],
   "source": [
    "def get_gemini_repsonse(prompt, pdf_content):\n",
    "    model = genai.GenerativeModel('gemini-pro')\n",
    "    response = model.generate_content([prompt, pdf_content])\n",
    "    return response.text"
   ]
  },
  {
   "cell_type": "code",
   "execution_count": 6,
   "id": "2766e85b",
   "metadata": {},
   "outputs": [],
   "source": [
    "def input_pdf_text(uploaded_file):\n",
    "    reader = pdf.PdfReader(uploaded_file)\n",
    "    text = \"\"\n",
    "    for page in range(len(reader.pages)):\n",
    "        page = reader.pages[page]\n",
    "        text += str(page.extract_text())\n",
    "    return text"
   ]
  },
  {
   "cell_type": "code",
   "execution_count": 7,
   "id": "b6254dd8",
   "metadata": {},
   "outputs": [],
   "source": [
    "seeker_prompt = \"\"\"\n",
    "As an experienced ATS Resume Parser assistant, your objective is to review the below pasted resume content and provide a comprehensive summary enriched with keywords and recommendations for suitable job applications. \n",
    "Your aim is to provide a response that allows the individual to leverage this analysis to refine the resume and maximize career prospects.\n",
    "The response should include an in-depth analysis of the resume, highlighting key areas of strength and areas for improvement. Additionally, provide the top five job roles the individual can apply for in a step-by-step format as follows:\n",
    "1: Resume Summary: {}\n",
    "2: Top Keywords: {}\n",
    "3: Recommended Job Roles: {}\n",
    "\"\"\""
   ]
  },
  {
   "cell_type": "code",
   "execution_count": 8,
   "id": "3fe7e193",
   "metadata": {},
   "outputs": [
    {
     "name": "stderr",
     "output_type": "stream",
     "text": [
      "2024-03-31 01:59:02.326 \n",
      "  \u001b[33m\u001b[1mWarning:\u001b[0m to view this Streamlit app on a browser, run it with the following\n",
      "  command:\n",
      "\n",
      "    streamlit run /Users/durgaprasadreddypralayakaveri/opt/anaconda3/lib/python3.9/site-packages/ipykernel_launcher.py [ARGUMENTS]\n"
     ]
    }
   ],
   "source": [
    "## streamlit app\n",
    "left, right = st.columns([1.3,1])\n",
    "\n",
    "with left:\n",
    "    st.title(\"Job Seeker - Smart ATS\")\n",
    "    st.text(\"Improve Your Resume ATS\")\n",
    "    uploaded_file = st.file_uploader(\"Upload Your Resume\", type=\"pdf\", help=\"Please upload PDF resume\")\n",
    "\n",
    "    submit = st.button(\"Submit\")\n",
    "\n",
    "    if submit:\n",
    "        if uploaded_file is not None:\n",
    "            pdf_content = input_pdf_text(uploaded_file)\n",
    "            response = get_gemini_repsonse(seeker_prompt, pdf_content)\n",
    "            st.write(response)\n",
    "\n",
    "            with right:\n",
    "                # Generate word cloud for resume summary\n",
    "                summary_start_idx = response.find(\"Resume Summary:\") + len(\"Resume Summary:\")\n",
    "                summary_end_idx = response.find(\"=======\", summary_start_idx)\n",
    "                summary = response[summary_start_idx:summary_end_idx].strip()\n",
    "\n",
    "                fig, ax = plt.subplots(figsize=(8, 6))\n",
    "                wordcloud = WordCloud(width=800, height=400, background_color=\"white\").generate(summary)\n",
    "                ax.imshow(wordcloud, interpolation=\"bilinear\")\n",
    "                ax.axis(\"off\")\n",
    "                ax.set_title(f\"Top words in the resume: {uploaded_file.name}\")\n",
    "                st.pyplot(fig)"
   ]
  },
  {
   "cell_type": "code",
   "execution_count": null,
   "id": "94d7079d",
   "metadata": {},
   "outputs": [],
   "source": []
  }
 ],
 "metadata": {
  "kernelspec": {
   "display_name": "Python 3 (ipykernel)",
   "language": "python",
   "name": "python3"
  },
  "language_info": {
   "codemirror_mode": {
    "name": "ipython",
    "version": 3
   },
   "file_extension": ".py",
   "mimetype": "text/x-python",
   "name": "python",
   "nbconvert_exporter": "python",
   "pygments_lexer": "ipython3",
   "version": "3.9.13"
  }
 },
 "nbformat": 4,
 "nbformat_minor": 5
}
