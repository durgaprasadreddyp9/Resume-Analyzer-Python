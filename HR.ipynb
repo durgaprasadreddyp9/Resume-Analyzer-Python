{
 "cells": [
  {
   "cell_type": "code",
   "execution_count": 6,
   "id": "6e790688",
   "metadata": {
    "scrolled": true
   },
   "outputs": [],
   "source": [
    "import streamlit as st\n"
   ]
  },
  {
   "cell_type": "code",
   "execution_count": 8,
   "id": "c944d6af",
   "metadata": {},
   "outputs": [],
   "source": [
    "import google.generativeai as genai\n"
   ]
  },
  {
   "cell_type": "code",
   "execution_count": 9,
   "id": "2ffdee63",
   "metadata": {},
   "outputs": [],
   "source": [
    "import os"
   ]
  },
  {
   "cell_type": "code",
   "execution_count": 11,
   "id": "b24ffa75",
   "metadata": {},
   "outputs": [],
   "source": [
    "import PyPDF2 as pdf"
   ]
  },
  {
   "cell_type": "code",
   "execution_count": 12,
   "id": "13499c9f",
   "metadata": {},
   "outputs": [],
   "source": [
    "from dotenv import load_dotenv"
   ]
  },
  {
   "cell_type": "code",
   "execution_count": 14,
   "id": "03016513",
   "metadata": {},
   "outputs": [],
   "source": [
    "from wordcloud import WordCloud"
   ]
  },
  {
   "cell_type": "code",
   "execution_count": 15,
   "id": "7d3d5579",
   "metadata": {},
   "outputs": [],
   "source": [
    "import matplotlib.pyplot as plt"
   ]
  },
  {
   "cell_type": "code",
   "execution_count": 16,
   "id": "9ee5e3eb",
   "metadata": {},
   "outputs": [],
   "source": [
    "import seaborn as sns"
   ]
  },
  {
   "cell_type": "code",
   "execution_count": 17,
   "id": "c89217a5",
   "metadata": {},
   "outputs": [],
   "source": [
    "st.set_page_config(page_title=\"ATS Resume Expert\", layout='wide')"
   ]
  },
  {
   "cell_type": "code",
   "execution_count": 18,
   "id": "6521ab2c",
   "metadata": {},
   "outputs": [
    {
     "data": {
      "text/plain": [
       "True"
      ]
     },
     "execution_count": 18,
     "metadata": {},
     "output_type": "execute_result"
    }
   ],
   "source": [
    "load_dotenv() ## load all our environment variables"
   ]
  },
  {
   "cell_type": "code",
   "execution_count": 27,
   "id": "236c8a7d",
   "metadata": {},
   "outputs": [],
   "source": [
    "genai.configure(api_key=os.getenv(\"api_key\"))\n"
   ]
  },
  {
   "cell_type": "code",
   "execution_count": 28,
   "id": "b44c6bb9",
   "metadata": {},
   "outputs": [],
   "source": [
    "def get_gemini_repsonse(prompt, pdf_content, jd):\n",
    "    model = genai.GenerativeModel('gemini-pro')\n",
    "    response = model.generate_content([prompt, pdf_content, jd])\n",
    "    return response.text\n"
   ]
  },
  {
   "cell_type": "code",
   "execution_count": 29,
   "id": "881a4cac",
   "metadata": {},
   "outputs": [],
   "source": [
    "def input_pdf_text(uploaded_file):\n",
    "    reader = pdf.PdfReader(uploaded_file)\n",
    "    text = \"\"\n",
    "    for page in range(len(reader.pages)):\n",
    "        page = reader.pages[page]\n",
    "        text += str(page.extract_text())\n",
    "    return text\n"
   ]
  },
  {
   "cell_type": "code",
   "execution_count": 30,
   "id": "cea0df53",
   "metadata": {},
   "outputs": [],
   "source": [
    "def calculate_match(prompt, pdf_content, jd):\n",
    "    response = get_gemini_repsonse(prompt, pdf_content, jd)\n",
    "    match_percentage_str = response.split('\\n')[0].split(':')[1].strip()\n",
    "    try:\n",
    "        match_percentage = float(match_percentage_str.replace('%', ''))  # Remove '%' and convert to float\n",
    "    except ValueError:\n",
    "        match_percentage = 0\n",
    "    return match_percentage, response"
   ]
  },
  {
   "cell_type": "code",
   "execution_count": 31,
   "id": "73d06630",
   "metadata": {},
   "outputs": [],
   "source": [
    "hr_prompt = \"\"\"\n",
    "You are skilled and experienced ATS(Application Tracking System) parser with a deep understanding of tech field, software engineering, data science, data analyst and big data engineer. \n",
    "Your task is to evaluate the resume based on the given job description.\n",
    "You must consider the job market is very competitive and you should provide best assistance for improving thr resumes. Assign the percentage Matching based on Job Description, missing keywords with high accuracy and a concise summary on the provided resume.\n",
    "I want to have the response in the following structure:\n",
    "1. JD Match in %:\n",
    "2. Missing Keywords:\n",
    "3. Resume Summary:\n",
    "\"\"\""
   ]
  },
  {
   "cell_type": "code",
   "execution_count": 32,
   "id": "19eba762",
   "metadata": {},
   "outputs": [],
   "source": [
    "left, right = st.columns([1.3,1])"
   ]
  },
  {
   "cell_type": "code",
   "execution_count": 33,
   "id": "9b5e9790",
   "metadata": {},
   "outputs": [],
   "source": [
    "## streamlit app\n",
    "left, right = st.columns([1.3,1])\n",
    "\n",
    "with left:\n",
    "    st.title(\"Smart ATS\")\n",
    "    st.text(\"Improve Your Resume ATS\")\n",
    "    jd = st.text_area(\"Paste the Job Description\")\n",
    "    uploaded_files = st.file_uploader(\"Upload Your Resumes\", type=\"pdf\", accept_multiple_files=True, help=\"Please upload PDF resumes\")\n",
    "\n",
    "    submit = st.button(\"Submit\")\n",
    "\n",
    "    if submit:\n",
    "        if uploaded_files is not None:\n",
    "            match_data = []\n",
    "            responses = []\n",
    "            for uploaded_file in uploaded_files:\n",
    "                pdf_content = input_pdf_text(uploaded_file)\n",
    "                match_percentage, response = calculate_match(hr_prompt, pdf_content, jd)\n",
    "                match_data.append({\"Resume\": uploaded_file.name, \"Match Percentage\": match_percentage})\n",
    "                responses.append(response)\n",
    "\n",
    "            # Sort resumes based on match percentage\n",
    "            sorted_match_data = sorted(match_data, key=lambda x: x[\"Match Percentage\"], reverse=True)\n",
    "\n",
    "            # Display responses for each resume\n",
    "            num_resumes = len(uploaded_files)\n",
    "            columns = st.columns(num_resumes)\n",
    "            for idx, resume_data in enumerate(sorted_match_data):\n",
    "                resume_name = resume_data[\"Resume\"]\n",
    "                response = responses[idx]\n",
    "                columns[idx].write(f\"Response for {resume_name}:\")\n",
    "                columns[idx].write(response)\n",
    "\n",
    "\n",
    "            with right:\n",
    "                # Display sorted match data in a table\n",
    "                st.write(\"Resume Match Rankings:\")\n",
    "                st.dataframe(sorted_match_data, use_container_width=True)\n",
    "\n",
    "                # st.write(\"Top 5 Resumes by Match Percentage\")\n",
    "                top_5_resumes = sorted_match_data[:5]\n",
    "                top_resume_names = [data[\"Resume\"] for data in top_5_resumes]\n",
    "                top_match_percentages = [data[\"Match Percentage\"] for data in top_5_resumes]\n",
    "                fig, ax = plt.subplots(figsize=(8, 6))\n",
    "                sns.barplot(x=top_match_percentages, y=top_resume_names, palette=\"viridis\", ax=ax)\n",
    "                ax.set_xlabel(\"Match Percentage\")\n",
    "                ax.set_ylabel(\"Resume\")\n",
    "                ax.set_title(\"Top 5 Resumes by Match Percentage\")\n",
    "                st.pyplot(fig)\n",
    "\n",
    "                # WordCloud\n",
    "                for idx, resume_data in enumerate(sorted_match_data):\n",
    "                    resume_name = resume_data[\"Resume\"]\n",
    "                    response = responses[idx]\n",
    "                    # Generate word cloud for resume summary\n",
    "                    summary_start_idx = response.find(\"Resume Summary:\") + len(\"Resume Summary:\")\n",
    "                    summary_end_idx = response.find(\"=======\", summary_start_idx)\n",
    "                    summary = response[summary_start_idx:summary_end_idx].strip()\n",
    "\n",
    "                    fig, ax = plt.subplots(figsize=(8, 6))\n",
    "                    wordcloud = WordCloud(width=800, height=400, background_color=\"white\").generate(summary)\n",
    "                    ax.imshow(wordcloud, interpolation=\"bilinear\")\n",
    "                    ax.axis(\"off\")\n",
    "                    ax.set_title(f\"Top words in the resume: {resume_name}\")\n",
    "                    st.pyplot(fig)\n",
    "                \n",
    "                # Add visualizations\n",
    "                st.write(\"Visualization of Match Percentages\")\n",
    "                match_percentages = [data[\"Match Percentage\"] for data in sorted_match_data]\n",
    "                fig, ax = plt.subplots(figsize=(8, 6))\n",
    "                sns.boxplot(y=match_percentages, ax=ax)\n",
    "                ax.set_ylabel(\"Match Percentage\")\n",
    "                st.pyplot(fig)\n"
   ]
  },
  {
   "cell_type": "code",
   "execution_count": null,
   "id": "2b3f37d0",
   "metadata": {},
   "outputs": [],
   "source": []
  }
 ],
 "metadata": {
  "kernelspec": {
   "display_name": "Python 3 (ipykernel)",
   "language": "python",
   "name": "python3"
  },
  "language_info": {
   "codemirror_mode": {
    "name": "ipython",
    "version": 3
   },
   "file_extension": ".py",
   "mimetype": "text/x-python",
   "name": "python",
   "nbconvert_exporter": "python",
   "pygments_lexer": "ipython3",
   "version": "3.9.13"
  }
 },
 "nbformat": 4,
 "nbformat_minor": 5
}
